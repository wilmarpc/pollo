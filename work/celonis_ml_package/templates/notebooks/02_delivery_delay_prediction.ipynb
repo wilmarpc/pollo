{
 "cells": [
  {
   "cell_type": "markdown",
   "metadata": {},
   "source": [
    "# Use case: O2C - Delivery Delay Prediction\n",
    "For this example, we are going to look at delivery delay prediction. We are going to build a **binary** classification model with the two possible classes 1 (delayed) and 0 (not delayed).\n",
    "\n",
    "**To get your own copy of this notebook run:**"
   ]
  },
  {
   "cell_type": "code",
   "execution_count": 1,
   "metadata": {},
   "outputs": [
    {
     "name": "stdout",
     "output_type": "stream",
     "text": [
      "Ignoring 02_delivery_delay_prediction.ipynb because file already exists.\n"
     ]
    }
   ],
   "source": [
    "from celonis_ml.templates import notebooks"
   ]
  },
  {
   "cell_type": "markdown",
   "metadata": {},
   "source": [
    "### 1. Import the required packages"
   ]
  },
  {
   "cell_type": "code",
   "execution_count": null,
   "metadata": {},
   "outputs": [],
   "source": [
    "from pathlib import Path\n",
    "\n",
    "import joblib\n",
    "import pandas as pd\n",
    "\n",
    "from pycelonis import get_celonis\n",
    "from celonis_ml.templates.demos import install_app, o2c_ddp_demo\n",
    "from celonis_ml.data_preprocessing import FeatureRecommender\n",
    "from celonis_ml.data_preprocessing.data_utils import push_table\n",
    "from celonis_ml.helpers import plot_auc_for_result, set_log_level\n",
    "from celonis_ml.trainers import TimeTranchesTrainer, CelonisMLTrainer\n",
    "\n",
    "%matplotlib inline"
   ]
  },
  {
   "cell_type": "markdown",
   "metadata": {},
   "source": [
    "### 2. Install or find the O2C Delivery Delay Prediction app in your team\n",
    "This will install or find an analysis and optionally upload a demo data-model in your IBC team.<br>\n",
    "If you have a workspace which uses **standard SAP Order to Cash** datamodel, enter in the cell bellow the name of a workspace to put the demo analysis there. This way you don't have to push our demo data, and the process will be faster.<br> If you don't have the required data, leave the cell as it is.\n",
    "\n",
    "#### If `taget_workspace` and `target_analysis` both can't be found, a data pool, data model, workspace and analysis with demo data will be installed"
   ]
  },
  {
   "cell_type": "code",
   "execution_count": 3,
   "metadata": {},
   "outputs": [
    {
     "name": "stdout",
     "output_type": "stream",
     "text": [
      "2021-02-18 18:33:07 - pycelonis: Login successful! The Application Key currently has access to 488 Analyses and to 165 Data Pools.\n"
     ]
    }
   ],
   "source": [
    "celonis = get_celonis()"
   ]
  },
  {
   "cell_type": "code",
   "execution_count": 4,
   "metadata": {},
   "outputs": [],
   "source": [
    "# Select a workspace you want to connect to. An analysis will be created in the workspace.\n",
    "target_workspace = \"02_SAP ECC Order to Cash\"\n",
    "workspace = celonis.workspaces.find(target_workspace)"
   ]
  },
  {
   "cell_type": "code",
   "execution_count": 5,
   "metadata": {},
   "outputs": [],
   "source": [
    "analysis_name = \"O2C - Delivery Delay Prediction\""
   ]
  },
  {
   "cell_type": "code",
   "execution_count": 6,
   "metadata": {},
   "outputs": [
    {
     "data": {
      "text/html": [
       "<a href=\"https://ml-appstore.eu-1.celonis.cloud/process-mining/analysis/888f0fe4-bdbf-4e73-be80-db75b54ada0c/#/\" target=\"_blank\">O2C - Delivery Delay Prediction</a>"
      ],
      "text/plain": [
       "<IPython.core.display.HTML object>"
      ]
     },
     "metadata": {},
     "output_type": "display_data"
    }
   ],
   "source": [
    "analysis = workspace.analyses.find(analysis_name, False)\n",
    "if not analysis:\n",
    "    analysis = install_app(demo=o2c_ddp_demo,\n",
    "                           celonis=celonis,\n",
    "                           target_workspace=workspace,\n",
    "                           analysis_name=analysis_name)\n",
    "analysis.web_link"
   ]
  },
  {
   "cell_type": "markdown",
   "metadata": {},
   "source": [
    "## Now, go to the analysis and start with the step \"Delivery Delay Prediction 1/5\""
   ]
  },
  {
   "cell_type": "markdown",
   "metadata": {},
   "source": [
    "## ML-WORKBENCH 1/2 - Feature recommendation"
   ]
  },
  {
   "cell_type": "markdown",
   "metadata": {},
   "source": [
    "### 1. Set up the initial variables\n",
    "Enter the shared selection URL here"
   ]
  },
  {
   "cell_type": "code",
   "execution_count": 7,
   "metadata": {},
   "outputs": [],
   "source": [
    "shared_selection_url = \"\"\"\n",
    "my_feature_recommendation_url\n",
    "\"\"\""
   ]
  },
  {
   "cell_type": "code",
   "execution_count": 8,
   "metadata": {},
   "outputs": [],
   "source": [
    "data_dir = Path(\"ddp_data444\")"
   ]
  },
  {
   "cell_type": "markdown",
   "metadata": {},
   "source": [
    "### 2. Run Feature Recommendation"
   ]
  },
  {
   "cell_type": "code",
   "execution_count": null,
   "metadata": {
    "scrolled": false
   },
   "outputs": [],
   "source": [
    "# Estimated duration: 12 minutes\n",
    "fr = FeatureRecommender(analysis, tables_to_include=[\"VBAP\"], shared_selection_url=shared_selection_url)\n",
    "recommendations = fr.run(push=False)"
   ]
  },
  {
   "cell_type": "code",
   "execution_count": null,
   "metadata": {},
   "outputs": [],
   "source": [
    "recommendations.head()"
   ]
  },
  {
   "cell_type": "code",
   "execution_count": null,
   "metadata": {},
   "outputs": [],
   "source": [
    "# Estimated duration: 2 minutes\n",
    "analysis.datamodel.push_table(\n",
    "    recommendations, \"Py_DDP_Feature_recommendation\", if_exists=\"replace\", reload_datamodel=True, wait_for_finish=True\n",
    ")"
   ]
  },
  {
   "cell_type": "markdown",
   "metadata": {},
   "source": [
    "## Now go to the analysis and continue with step \"Feature Recommendation 4/5\""
   ]
  },
  {
   "cell_type": "markdown",
   "metadata": {},
   "source": [
    "## ML-WORKBENCH 2/2 - Model training and prediction\n",
    "Enter you new selection url below:"
   ]
  },
  {
   "cell_type": "code",
   "execution_count": 8,
   "metadata": {},
   "outputs": [],
   "source": [
    "shared_selection_url = \"\"\"\n",
    "my_model_training_url\n",
    "\"\"\""
   ]
  },
  {
   "cell_type": "markdown",
   "metadata": {},
   "source": [
    "### 1. Initialize a trainer"
   ]
  },
  {
   "cell_type": "markdown",
   "metadata": {},
   "source": [
    "The MLSuite supports three different algorithms for building a binary classification model: `'lgbm_classifier'`, `'rf_classifier'` and `'lr_classifier'`. <br>\n",
    "We recommend people that are new to machine learning to stick with the default option of this notebook. ML wizards can play around with the other options and see which one gives better results."
   ]
  },
  {
   "cell_type": "code",
   "execution_count": 11,
   "metadata": {},
   "outputs": [],
   "source": [
    "model_name = \"lgbm_classifier\""
   ]
  },
  {
   "cell_type": "code",
   "execution_count": 12,
   "metadata": {},
   "outputs": [],
   "source": [
    "trainer = CelonisMLTrainer(cel_analysis=analysis, data_dir=data_dir, shared_selection_url=shared_selection_url)"
   ]
  },
  {
   "cell_type": "markdown",
   "metadata": {},
   "source": [
    "### 2. Train it and push results\n",
    "After initializing the trainer, we now need to feed it with data and train it. You can specify the hyper-parameter settings of the model with the `params` attribute. Novices are again recommended to stick to the default settings. If you already have some experience with machine learning, you can check the documentation and tune the hyperparameters.\n",
    "\n",
    "Docs for lgbm_classifier: https://lightgbm.readthedocs.io/en/latest/Parameters.html <br>\n",
    "Docs for rf_classifier: https://scikit-learn.org/stable/modules/generated/sklearn.ensemble.RandomForestClassifier.html <br>\n",
    "Docs for lr_classifier: https://scikit-learn.org/stable/modules/generated/sklearn.linear_model.LogisticRegression.html"
   ]
  },
  {
   "cell_type": "code",
   "execution_count": null,
   "metadata": {},
   "outputs": [],
   "source": [
    "# Estimated duration: 3 minutes\n",
    "params = {\"num_leaves\": 32, \"max_depth\": 16, \"learning_rate\": 0.1, \"num_iterations\": 20}\n",
    "train_results, test_performance, feature_importance = trainer.train(\n",
    "    model_name=model_name, params=params, sample=True, sample_size=10000\n",
    ")"
   ]
  },
  {
   "cell_type": "code",
   "execution_count": null,
   "metadata": {},
   "outputs": [],
   "source": [
    "# Estimated duration: 3 minutes\n",
    "push_table(analysis.datamodel, train_results, \"Py_DDP_Evaluation_results\", if_exists=\"replace\")\n",
    "push_table(analysis.datamodel, test_performance, \"Py_DDP_Test_performance\", add_table_links=False, if_exists=\"replace\")\n",
    "push_table(\n",
    "    analysis.datamodel,\n",
    "    feature_importance,\n",
    "    \"Py_DDP_Feature_importance\",\n",
    "    add_table_links=False,\n",
    "    if_exists=\"replace\",\n",
    "    reload_datamodel=True,\n",
    ")"
   ]
  },
  {
   "cell_type": "markdown",
   "metadata": {},
   "source": [
    "### 3. Analyze test performance\n",
    "The model has only learned from closed cases, because those are the cases for which we already know if the delivery was late or not. This also means, that we can now analyze how the model performs on these closed cases. For each case, `y_pred` contains the predicted label and `y_true` the true label. We provide a nice sheet in the analysis, where you can examine these results closely."
   ]
  },
  {
   "cell_type": "code",
   "execution_count": 12,
   "metadata": {},
   "outputs": [
    {
     "data": {
      "text/html": [
       "<div>\n",
       "<style scoped>\n",
       "    .dataframe tbody tr th:only-of-type {\n",
       "        vertical-align: middle;\n",
       "    }\n",
       "\n",
       "    .dataframe tbody tr th {\n",
       "        vertical-align: top;\n",
       "    }\n",
       "\n",
       "    .dataframe thead th {\n",
       "        text-align: right;\n",
       "    }\n",
       "</style>\n",
       "<table border=\"1\" class=\"dataframe\">\n",
       "  <thead>\n",
       "    <tr style=\"text-align: right;\">\n",
       "      <th></th>\n",
       "      <th>_CASE_KEY</th>\n",
       "      <th>usage</th>\n",
       "      <th>y_true</th>\n",
       "      <th>y_pred</th>\n",
       "      <th>model_name</th>\n",
       "    </tr>\n",
       "  </thead>\n",
       "  <tbody>\n",
       "    <tr>\n",
       "      <th>0</th>\n",
       "      <td>2531</td>\n",
       "      <td>train</td>\n",
       "      <td>0</td>\n",
       "      <td>0.009471</td>\n",
       "      <td>lgbm_classifier</td>\n",
       "    </tr>\n",
       "    <tr>\n",
       "      <th>1</th>\n",
       "      <td>2000</td>\n",
       "      <td>train</td>\n",
       "      <td>0</td>\n",
       "      <td>0.031801</td>\n",
       "      <td>lgbm_classifier</td>\n",
       "    </tr>\n",
       "    <tr>\n",
       "      <th>2</th>\n",
       "      <td>7156</td>\n",
       "      <td>train</td>\n",
       "      <td>0</td>\n",
       "      <td>0.020041</td>\n",
       "      <td>lgbm_classifier</td>\n",
       "    </tr>\n",
       "    <tr>\n",
       "      <th>3</th>\n",
       "      <td>3516</td>\n",
       "      <td>train</td>\n",
       "      <td>0</td>\n",
       "      <td>0.023056</td>\n",
       "      <td>lgbm_classifier</td>\n",
       "    </tr>\n",
       "    <tr>\n",
       "      <th>4</th>\n",
       "      <td>6702</td>\n",
       "      <td>train</td>\n",
       "      <td>0</td>\n",
       "      <td>0.016136</td>\n",
       "      <td>lgbm_classifier</td>\n",
       "    </tr>\n",
       "  </tbody>\n",
       "</table>\n",
       "</div>"
      ],
      "text/plain": [
       "  _CASE_KEY  usage  y_true    y_pred       model_name\n",
       "0      2531  train       0  0.009471  lgbm_classifier\n",
       "1      2000  train       0  0.031801  lgbm_classifier\n",
       "2      7156  train       0  0.020041  lgbm_classifier\n",
       "3      3516  train       0  0.023056  lgbm_classifier\n",
       "4      6702  train       0  0.016136  lgbm_classifier"
      ]
     },
     "execution_count": 12,
     "metadata": {},
     "output_type": "execute_result"
    }
   ],
   "source": [
    "train_results.head()"
   ]
  },
  {
   "cell_type": "markdown",
   "metadata": {},
   "source": [
    "## Now, go to the analysis and check out the \"Technical Performance Overview\""
   ]
  },
  {
   "cell_type": "markdown",
   "metadata": {},
   "source": [
    "#### 3.a. Bonus tip!"
   ]
  },
  {
   "cell_type": "markdown",
   "metadata": {},
   "source": [
    "As an example of other interesting things you can do in the ML Workbench (just like with any Jupyter Notebook environment), we show the following plots. Our algorithm stores the training dataset as a pandas DataFrame, which means you can also experiment with any other post-training analysis or visualization techniques that you are familiar with.\n",
    "\n",
    "The AUC curve is a commonly used way to assess the quality of classification models. To put it simply, the more the orange line reaches the upper left, the better the model is. If the orange line coincides with the blue line, this is a bad sign: It means that the model is performing just as well as random predictions would."
   ]
  },
  {
   "cell_type": "code",
   "execution_count": 13,
   "metadata": {},
   "outputs": [
    {
     "name": "stdout",
     "output_type": "stream",
     "text": [
      "ROC Score: 0.741\n"
     ]
    },
    {
     "data": {
      "image/png": "[encoded data removed]",
      "text/plain": [
       "<Figure size 432x288 with 1 Axes>"
      ]
     },
     "metadata": {
      "needs_background": "light"
     },
     "output_type": "display_data"
    }
   ],
   "source": [
    "%matplotlib inline\n",
    "plot_auc_for_result(train_results[train_results.usage == \"test\"])"
   ]
  },
  {
   "cell_type": "markdown",
   "metadata": {},
   "source": [
    "### 4. Predict for open cases\n",
    "If you have built your model and are happy with its performance on closed cases, it is time to start predicting on time delivery for open cases!"
   ]
  },
  {
   "cell_type": "code",
   "execution_count": 14,
   "metadata": {},
   "outputs": [
    {
     "name": "stdout",
     "output_type": "stream",
     "text": [
      "2021-02-18 18:34:00 - celonis_ml.data_preprocessing.data_gathering: Connected to Datamodel: GOOD_DATA O2C datamodel - Working and Analysis: O2C - Delivery Delay Prediction\n",
      "2021-02-18 18:34:08 - celonis_ml.data_preprocessing.data_gathering: Checking fingerprint... developmentNoneddp_data444predictiongeneric_dataloader\n",
      "2021-02-18 18:34:08 - celonis_ml.data_preprocessing.data_gathering: Fingerprint found\n",
      "2021-02-18 18:34:08 - celonis_ml.trainers.trainers: Start predicting...\n",
      "2021-02-18 18:34:10 - celonis_ml.data_preprocessing.data_gathering: Obtaining data for prediction with cases table of shape: (40, 461)\n",
      "2021-02-18 18:34:19 - celonis_ml.data_preprocessing.data_gathering: Final dataset for prediction has shape: (40, 480)\n",
      "2021-02-18 18:34:20 - celonis_ml.trainers.trainers: Prediction results header:\n",
      "               _CASE_KEY    y_pred       model_name\n",
      "0  800:530010:0000910232  0.020852  lgbm_classifier\n",
      "1  800:240010:0000427209  0.020852  lgbm_classifier\n",
      "2  800:160010:0000276682  0.020100  lgbm_classifier\n",
      "3  800:140040:0000245149  0.017808  lgbm_classifier\n",
      "4  800:270040:0000467397  0.020852  lgbm_classifier\n",
      "5  800:110010:0000192013  0.020100  lgbm_classifier\n",
      "6  800:120020:0000210917  0.020100  lgbm_classifier\n",
      "7  800:270020:0000462474  0.020852  lgbm_classifier\n",
      "8  800:110030:0000192011  0.020100  lgbm_classifier\n",
      "9  800:110030:0000192019  0.020100  lgbm_classifier\n"
     ]
    }
   ],
   "source": [
    "# Estimated duration: 1.5 minutes\n",
    "predictions = trainer.predict(model_name=model_name)"
   ]
  },
  {
   "cell_type": "markdown",
   "metadata": {},
   "source": [
    "You can then look at your predictions..."
   ]
  },
  {
   "cell_type": "code",
   "execution_count": 15,
   "metadata": {},
   "outputs": [
    {
     "data": {
      "text/html": [
       "<div>\n",
       "<style scoped>\n",
       "    .dataframe tbody tr th:only-of-type {\n",
       "        vertical-align: middle;\n",
       "    }\n",
       "\n",
       "    .dataframe tbody tr th {\n",
       "        vertical-align: top;\n",
       "    }\n",
       "\n",
       "    .dataframe thead th {\n",
       "        text-align: right;\n",
       "    }\n",
       "</style>\n",
       "<table border=\"1\" class=\"dataframe\">\n",
       "  <thead>\n",
       "    <tr style=\"text-align: right;\">\n",
       "      <th></th>\n",
       "      <th>_CASE_KEY</th>\n",
       "      <th>y_pred</th>\n",
       "      <th>model_name</th>\n",
       "    </tr>\n",
       "  </thead>\n",
       "  <tbody>\n",
       "    <tr>\n",
       "      <th>0</th>\n",
       "      <td>800:530010:0000910232</td>\n",
       "      <td>0.020852</td>\n",
       "      <td>lgbm_classifier</td>\n",
       "    </tr>\n",
       "    <tr>\n",
       "      <th>1</th>\n",
       "      <td>800:240010:0000427209</td>\n",
       "      <td>0.020852</td>\n",
       "      <td>lgbm_classifier</td>\n",
       "    </tr>\n",
       "    <tr>\n",
       "      <th>2</th>\n",
       "      <td>800:160010:0000276682</td>\n",
       "      <td>0.020100</td>\n",
       "      <td>lgbm_classifier</td>\n",
       "    </tr>\n",
       "    <tr>\n",
       "      <th>3</th>\n",
       "      <td>800:140040:0000245149</td>\n",
       "      <td>0.017808</td>\n",
       "      <td>lgbm_classifier</td>\n",
       "    </tr>\n",
       "    <tr>\n",
       "      <th>4</th>\n",
       "      <td>800:270040:0000467397</td>\n",
       "      <td>0.020852</td>\n",
       "      <td>lgbm_classifier</td>\n",
       "    </tr>\n",
       "  </tbody>\n",
       "</table>\n",
       "</div>"
      ],
      "text/plain": [
       "               _CASE_KEY    y_pred       model_name\n",
       "0  800:530010:0000910232  0.020852  lgbm_classifier\n",
       "1  800:240010:0000427209  0.020852  lgbm_classifier\n",
       "2  800:160010:0000276682  0.020100  lgbm_classifier\n",
       "3  800:140040:0000245149  0.017808  lgbm_classifier\n",
       "4  800:270040:0000467397  0.020852  lgbm_classifier"
      ]
     },
     "execution_count": 15,
     "metadata": {},
     "output_type": "execute_result"
    }
   ],
   "source": [
    "predictions.head()"
   ]
  },
  {
   "cell_type": "markdown",
   "metadata": {},
   "source": [
    "...and also save them if you want:"
   ]
  },
  {
   "cell_type": "code",
   "execution_count": 21,
   "metadata": {},
   "outputs": [],
   "source": [
    "dump_data_file(Path(data_dir / \"pred_overall.parquet\"), predictions)"
   ]
  },
  {
   "cell_type": "markdown",
   "metadata": {},
   "source": [
    "### 5. Push prediction results back to Celonis\n",
    "As a last step, you can push your results back into Celonis. The cell below will finish running once the data has been pushed to Celonis and the data model has been reloaded. This function will also verify the primary key of the case table and add the corresponding foreign key connections for you to be able to use it immediatly in your analysis."
   ]
  },
  {
   "cell_type": "code",
   "execution_count": null,
   "metadata": {},
   "outputs": [],
   "source": [
    "# Estimated duration: 2 minutes\n",
    "push_table(analysis.datamodel, predictions, \"Py_DDP_Predictions\", if_exists=\"replace\", reload_datamodel=True)"
   ]
  },
  {
   "cell_type": "markdown",
   "metadata": {},
   "source": [
    "## Now go to the anlaysis and check the results in \"Predictions\""
   ]
  }
 ],
 "metadata": {
  "jupytext": {
   "formats": "ipynb,py:percent"
  },
  "kernelspec": {
   "display_name": "Python 3",
   "language": "python",
   "name": "python3"
  },
  "language_info": {
   "codemirror_mode": {
    "name": "ipython",
    "version": 3
   },
   "file_extension": ".py",
   "mimetype": "text/x-python",
   "name": "python",
   "nbconvert_exporter": "python",
   "pygments_lexer": "ipython3",
   "version": "3.7.4"
  }
 },
 "nbformat": 4,
 "nbformat_minor": 4
}
